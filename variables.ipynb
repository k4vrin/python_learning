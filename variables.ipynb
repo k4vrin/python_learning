{
 "cells": [
  {
   "cell_type": "code",
   "execution_count": 1,
   "id": "9b6d231e",
   "metadata": {},
   "outputs": [
    {
     "data": {
      "text/plain": [
       "140"
      ]
     },
     "execution_count": 1,
     "metadata": {},
     "output_type": "execute_result"
    }
   ],
   "source": [
    "pizza_price = 140\n",
    "pizza_price"
   ]
  },
  {
   "cell_type": "code",
   "execution_count": 6,
   "id": "cec0cf3b",
   "metadata": {},
   "outputs": [],
   "source": [
    "pizza_num = 12\n",
    "doogh_price = 400\n",
    "doogh_num = 6\n",
    "jaa_price = 4850\n",
    "jaa_num = 3\n"
   ]
  },
  {
   "cell_type": "code",
   "execution_count": 8,
   "id": "70448bd9",
   "metadata": {},
   "outputs": [
    {
     "name": "stdout",
     "output_type": "stream",
     "text": [
      "18630\n"
     ]
    }
   ],
   "source": [
    "kole_kharj = pizza_price * pizza_num + doogh_price * doogh_num + jaa_price * jaa_num\n",
    "print(kole_kharj)"
   ]
  },
  {
   "cell_type": "code",
   "execution_count": 10,
   "id": "ee229eca",
   "metadata": {},
   "outputs": [
    {
     "name": "stdout",
     "output_type": "stream",
     "text": [
      "Har kas 6210.0 bayad bedahad.\n"
     ]
    }
   ],
   "source": [
    "people_num = 3\n",
    "print(f\"Har kas {kole_kharj / people_num} bayad bedahad.\")\n",
    "\n"
   ]
  },
  {
   "cell_type": "code",
   "execution_count": 11,
   "id": "54509f3f",
   "metadata": {},
   "outputs": [
    {
     "name": "stdout",
     "output_type": "stream",
     "text": [
      "Har kas 4657.5 bayad bedahad.\n"
     ]
    }
   ],
   "source": [
    "people_num += 1\n",
    "print(f\"Har kas {kole_kharj / people_num} bayad bedahad.\")"
   ]
  },
  {
   "cell_type": "code",
   "execution_count": 5,
   "id": "f4c25dcf",
   "metadata": {},
   "outputs": [
    {
     "data": {
      "text/plain": [
       "'it'"
      ]
     },
     "execution_count": 5,
     "metadata": {},
     "output_type": "execute_result"
    }
   ],
   "source": [
    "x = 'Hi this is a string'\n",
    "x.lower()\n",
    "x.split()\n",
    "\n",
    "x[1:5:2]"
   ]
  }
 ],
 "metadata": {
  "kernelspec": {
   "display_name": "Python 3",
   "language": "python",
   "name": "python3"
  },
  "language_info": {
   "codemirror_mode": {
    "name": "ipython",
    "version": 3
   },
   "file_extension": ".py",
   "mimetype": "text/x-python",
   "name": "python",
   "nbconvert_exporter": "python",
   "pygments_lexer": "ipython3",
   "version": "3.9.6"
  }
 },
 "nbformat": 4,
 "nbformat_minor": 5
}
