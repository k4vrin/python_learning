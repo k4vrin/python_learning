{
 "cells": [
  {
   "cell_type": "code",
   "execution_count": 6,
   "id": "ebb8a43c",
   "metadata": {},
   "outputs": [
    {
     "data": {
      "text/plain": [
       "'Hello I am here'"
      ]
     },
     "execution_count": 6,
     "metadata": {},
     "output_type": "execute_result"
    }
   ],
   "source": [
    "'Hello I am here'"
   ]
  },
  {
   "cell_type": "code",
   "execution_count": 7,
   "id": "10c27db2",
   "metadata": {},
   "outputs": [
    {
     "data": {
      "text/plain": [
       "'Hello I am here'"
      ]
     },
     "execution_count": 7,
     "metadata": {},
     "output_type": "execute_result"
    }
   ],
   "source": [
    "\"Hello I am here\""
   ]
  },
  {
   "cell_type": "code",
   "execution_count": 8,
   "id": "1d14c2bf",
   "metadata": {},
   "outputs": [
    {
     "data": {
      "text/plain": [
       "\"Hello I'm here\""
      ]
     },
     "execution_count": 8,
     "metadata": {},
     "output_type": "execute_result"
    }
   ],
   "source": [
    "\"Hello I'm here\""
   ]
  },
  {
   "cell_type": "markdown",
   "id": "d720ce73",
   "metadata": {},
   "source": [
    "message = 'Hello I am here'\n",
    "message[0]\n"
   ]
  },
  {
   "cell_type": "code",
   "execution_count": 9,
   "id": "f29d02a2",
   "metadata": {},
   "outputs": [],
   "source": [
    "ns = \"0123456789\""
   ]
  },
  {
   "cell_type": "code",
   "execution_count": 10,
   "id": "1a2d4d87",
   "metadata": {},
   "outputs": [
    {
     "data": {
      "text/plain": [
       "'2345'"
      ]
     },
     "execution_count": 10,
     "metadata": {},
     "output_type": "execute_result"
    }
   ],
   "source": [
    "ns[2:6]"
   ]
  },
  {
   "cell_type": "code",
   "execution_count": 11,
   "id": "674219fd",
   "metadata": {},
   "outputs": [
    {
     "data": {
      "text/plain": [
       "'258'"
      ]
     },
     "execution_count": 11,
     "metadata": {},
     "output_type": "execute_result"
    }
   ],
   "source": [
    "ns[2:9:3]"
   ]
  },
  {
   "cell_type": "code",
   "execution_count": 12,
   "id": "82649af5",
   "metadata": {},
   "outputs": [
    {
     "data": {
      "text/plain": [
       "'9876543210'"
      ]
     },
     "execution_count": 12,
     "metadata": {},
     "output_type": "execute_result"
    }
   ],
   "source": [
    "ns[::-1]"
   ]
  },
  {
   "cell_type": "markdown",
   "id": "64fccbec",
   "metadata": {},
   "source": [
    "[n:m:s]\n",
    "\n",
    "[::-1] will move backwards"
   ]
  },
  {
   "cell_type": "code",
   "execution_count": 13,
   "id": "dbab4fdd",
   "metadata": {},
   "outputs": [
    {
     "data": {
      "text/plain": [
       "'012345'"
      ]
     },
     "execution_count": 13,
     "metadata": {},
     "output_type": "execute_result"
    }
   ],
   "source": [
    "ns[:-4]"
   ]
  },
  {
   "cell_type": "markdown",
   "id": "f7b864dc",
   "metadata": {},
   "source": [
    "ns[:-4]\n",
    "from the begining until the 4th one from end"
   ]
  },
  {
   "cell_type": "code",
   "execution_count": 14,
   "id": "d350b80b",
   "metadata": {},
   "outputs": [
    {
     "data": {
      "text/plain": [
       "'\\nThis is a string manipulation example.\\nIt demonstrates how to slice strings in Python.\\nIt includes examples of positive and negative indexing,\\nas well as using steps in slicing.\\nIt also shows how to reverse a string using slicing.\\nIt is a simple yet effective way to understand string operations in Python.\\n'"
      ]
     },
     "execution_count": 14,
     "metadata": {},
     "output_type": "execute_result"
    }
   ],
   "source": [
    "\"\"\"\n",
    "This is a string manipulation example.\n",
    "It demonstrates how to slice strings in Python.\n",
    "It includes examples of positive and negative indexing,\n",
    "as well as using steps in slicing.\n",
    "It also shows how to reverse a string using slicing.\n",
    "It is a simple yet effective way to understand string operations in Python.\n",
    "\"\"\""
   ]
  },
  {
   "cell_type": "code",
   "execution_count": 15,
   "id": "a53bc236",
   "metadata": {},
   "outputs": [],
   "source": [
    "name = \"jadi\""
   ]
  },
  {
   "cell_type": "code",
   "execution_count": 16,
   "id": "f783fbae",
   "metadata": {},
   "outputs": [
    {
     "data": {
      "text/plain": [
       "'Jadi'"
      ]
     },
     "execution_count": 16,
     "metadata": {},
     "output_type": "execute_result"
    }
   ],
   "source": [
    "name = \"J\" + name[1:]\n",
    "name"
   ]
  },
  {
   "cell_type": "code",
   "execution_count": 17,
   "id": "318b4eb1",
   "metadata": {},
   "outputs": [
    {
     "data": {
      "text/plain": [
       "str"
      ]
     },
     "execution_count": 17,
     "metadata": {},
     "output_type": "execute_result"
    }
   ],
   "source": [
    "type(name)"
   ]
  },
  {
   "cell_type": "code",
   "execution_count": 18,
   "id": "c705c9a8",
   "metadata": {},
   "outputs": [
    {
     "data": {
      "text/plain": [
       "int"
      ]
     },
     "execution_count": 18,
     "metadata": {},
     "output_type": "execute_result"
    }
   ],
   "source": [
    "age = 45\n",
    "type(age)"
   ]
  },
  {
   "cell_type": "code",
   "execution_count": 19,
   "id": "0f4a2d8e",
   "metadata": {},
   "outputs": [
    {
     "data": {
      "text/plain": [
       "'JADI'"
      ]
     },
     "execution_count": 19,
     "metadata": {},
     "output_type": "execute_result"
    }
   ],
   "source": [
    "name.upper()"
   ]
  },
  {
   "cell_type": "code",
   "execution_count": 20,
   "id": "6b9082e8",
   "metadata": {},
   "outputs": [
    {
     "data": {
      "text/plain": [
       "False"
      ]
     },
     "execution_count": 20,
     "metadata": {},
     "output_type": "execute_result"
    }
   ],
   "source": [
    "name.islower()"
   ]
  },
  {
   "cell_type": "code",
   "execution_count": 21,
   "id": "f7ebed68",
   "metadata": {},
   "outputs": [
    {
     "data": {
      "text/plain": [
       "1"
      ]
     },
     "execution_count": 21,
     "metadata": {},
     "output_type": "execute_result"
    }
   ],
   "source": [
    "name.index(\"a\")"
   ]
  },
  {
   "cell_type": "code",
   "execution_count": 22,
   "id": "8cbd61c4",
   "metadata": {},
   "outputs": [
    {
     "name": "stdout",
     "output_type": "stream",
     "text": [
      "Jadi Smith\n"
     ]
    }
   ],
   "source": [
    "family_name = \"Smith\"\n",
    "full_name = name + \" \" + family_name\n",
    "print(full_name)"
   ]
  },
  {
   "cell_type": "code",
   "execution_count": 23,
   "id": "56e97822",
   "metadata": {},
   "outputs": [
    {
     "data": {
      "text/plain": [
       "'Hello Jadi Smith'"
      ]
     },
     "execution_count": 23,
     "metadata": {},
     "output_type": "execute_result"
    }
   ],
   "source": [
    "\"Hello %s %s\" % (name, family_name)"
   ]
  },
  {
   "cell_type": "code",
   "execution_count": 31,
   "id": "ca03bf40",
   "metadata": {},
   "outputs": [
    {
     "data": {
      "text/plain": [
       "'Hello Jadi Smith, you are 45 years old.'"
      ]
     },
     "execution_count": 31,
     "metadata": {},
     "output_type": "execute_result"
    }
   ],
   "source": [
    "age = 45.56456\n",
    "\"Hello %s %s, you are %i years old.\" % (name, family_name, age)"
   ]
  },
  {
   "cell_type": "code",
   "execution_count": 28,
   "id": "bc892b21",
   "metadata": {},
   "outputs": [
    {
     "data": {
      "text/plain": [
       "'Hello Jadi Smith you are 45'"
      ]
     },
     "execution_count": 28,
     "metadata": {},
     "output_type": "execute_result"
    }
   ],
   "source": [
    "\"Hello {} {} you are {}\".format(name, family_name, age)"
   ]
  },
  {
   "cell_type": "code",
   "execution_count": 29,
   "id": "709639e4",
   "metadata": {},
   "outputs": [
    {
     "data": {
      "text/plain": [
       "'Hello Smith Jadi you are 45'"
      ]
     },
     "execution_count": 29,
     "metadata": {},
     "output_type": "execute_result"
    }
   ],
   "source": [
    "\"Hello {1} {0} you are {2}\".format(name, family_name, age)"
   ]
  },
  {
   "cell_type": "code",
   "execution_count": 37,
   "id": "461fe72a",
   "metadata": {},
   "outputs": [
    {
     "data": {
      "text/plain": [
       "'Hello Smith Jadi you are 45.56'"
      ]
     },
     "execution_count": 37,
     "metadata": {},
     "output_type": "execute_result"
    }
   ],
   "source": [
    "\"Hello {family} {name} you are {age:1.2f}\".format(name=name, family=family_name, age=age)"
   ]
  },
  {
   "cell_type": "code",
   "execution_count": 39,
   "id": "bf5c84b0",
   "metadata": {},
   "outputs": [
    {
     "data": {
      "text/plain": [
       "'Hello Smith Jadi you are 45.56'"
      ]
     },
     "execution_count": 39,
     "metadata": {},
     "output_type": "execute_result"
    }
   ],
   "source": [
    "f\"Hello {family_name} {name} you are {age:1.2f}\""
   ]
  },
  {
   "cell_type": "code",
   "execution_count": 43,
   "id": "0747b90f",
   "metadata": {},
   "outputs": [
    {
     "data": {
      "text/plain": [
       "'ewsd'"
      ]
     },
     "execution_count": 43,
     "metadata": {},
     "output_type": "execute_result"
    }
   ],
   "source": [
    "jj=\"wewsdf\"\n",
    "jj[-1]\n",
    "jj[1:-1]"
   ]
  }
 ],
 "metadata": {
  "kernelspec": {
   "display_name": "Python 3",
   "language": "python",
   "name": "python3"
  },
  "language_info": {
   "codemirror_mode": {
    "name": "ipython",
    "version": 3
   },
   "file_extension": ".py",
   "mimetype": "text/x-python",
   "name": "python",
   "nbconvert_exporter": "python",
   "pygments_lexer": "ipython3",
   "version": "3.9.6"
  }
 },
 "nbformat": 4,
 "nbformat_minor": 5
}
