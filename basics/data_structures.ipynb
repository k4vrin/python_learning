{
 "cells": [
  {
   "cell_type": "code",
   "execution_count": 16,
   "id": "82a73176",
   "metadata": {},
   "outputs": [
    {
     "data": {
      "text/plain": [
       "[0, 1, 2, 3]"
      ]
     },
     "execution_count": 16,
     "metadata": {},
     "output_type": "execute_result"
    }
   ],
   "source": [
    "my_list = [0, 1, 2, 3]\n",
    "my_list"
   ]
  },
  {
   "cell_type": "code",
   "execution_count": 17,
   "id": "f112fb5d",
   "metadata": {},
   "outputs": [
    {
     "data": {
      "text/plain": [
       "['John', 'Sara', False]"
      ]
     },
     "execution_count": 17,
     "metadata": {},
     "output_type": "execute_result"
    }
   ],
   "source": [
    "list2 = [\"John\", \"Sara\", False, 1, 3.55]\n",
    "len(list2)\n",
    "\n",
    "list2[:-2]"
   ]
  },
  {
   "cell_type": "code",
   "execution_count": 18,
   "id": "c7588e7f",
   "metadata": {},
   "outputs": [
    {
     "data": {
      "text/plain": [
       "[0, 1, 2, 3, 'John', 'Sara', False, 1, 3.55]"
      ]
     },
     "execution_count": 18,
     "metadata": {},
     "output_type": "execute_result"
    }
   ],
   "source": [
    "my_list + list2"
   ]
  },
  {
   "cell_type": "code",
   "execution_count": 19,
   "id": "695aca8d",
   "metadata": {},
   "outputs": [],
   "source": [
    "names = [\"John\", \"Sara\", \"Mike\", \"Anna\"]"
   ]
  },
  {
   "cell_type": "code",
   "execution_count": 22,
   "id": "4f9e7c31",
   "metadata": {},
   "outputs": [
    {
     "data": {
      "text/plain": [
       "'Anna'"
      ]
     },
     "execution_count": 22,
     "metadata": {},
     "output_type": "execute_result"
    }
   ],
   "source": [
    "last_name = names[-1]  # Gets the last element\n",
    "last_name"
   ]
  },
  {
   "cell_type": "code",
   "execution_count": null,
   "id": "46fff9aa",
   "metadata": {},
   "outputs": [],
   "source": [
    "names.reverse()"
   ]
  },
  {
   "cell_type": "code",
   "execution_count": 25,
   "id": "233b2885",
   "metadata": {},
   "outputs": [
    {
     "data": {
      "text/plain": [
       "[1, 2, 4, 5, 10]"
      ]
     },
     "execution_count": 25,
     "metadata": {},
     "output_type": "execute_result"
    }
   ],
   "source": [
    "my_list2 = [1, 2, 3, 4, 5]\n",
    "my_list2.remove(3)\n",
    "my_list2.append(10)\n",
    "my_list2  # This will raise an error because remove() returns None"
   ]
  }
 ],
 "metadata": {
  "kernelspec": {
   "display_name": "Python 3",
   "language": "python",
   "name": "python3"
  },
  "language_info": {
   "codemirror_mode": {
    "name": "ipython",
    "version": 3
   },
   "file_extension": ".py",
   "mimetype": "text/x-python",
   "name": "python",
   "nbconvert_exporter": "python",
   "pygments_lexer": "ipython3",
   "version": "3.9.6"
  }
 },
 "nbformat": 4,
 "nbformat_minor": 5
}
