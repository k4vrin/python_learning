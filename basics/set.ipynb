{
 "cells": [
  {
   "cell_type": "code",
   "execution_count": 1,
   "id": "b52a51df",
   "metadata": {},
   "outputs": [],
   "source": [
    "myset = set()\n",
    "myset.add(1)\n",
    "myset.add(2)"
   ]
  },
  {
   "cell_type": "code",
   "execution_count": 3,
   "id": "b3eda4c3",
   "metadata": {},
   "outputs": [
    {
     "data": {
      "text/plain": [
       "set"
      ]
     },
     "execution_count": 3,
     "metadata": {},
     "output_type": "execute_result"
    }
   ],
   "source": [
    "type(myset)  # This will return <class 'set'>, indicating that myset is a set."
   ]
  },
  {
   "cell_type": "code",
   "execution_count": 9,
   "id": "044f4f86",
   "metadata": {},
   "outputs": [],
   "source": [
    "chess = set()\n",
    "chess.add(\"White\")\n",
    "chess.add(\"Black\")"
   ]
  },
  {
   "cell_type": "code",
   "execution_count": 5,
   "id": "27d470a5",
   "metadata": {},
   "outputs": [
    {
     "data": {
      "text/plain": [
       "{'Green', 'Red', 'Yellow'}"
      ]
     },
     "execution_count": 5,
     "metadata": {},
     "output_type": "execute_result"
    }
   ],
   "source": [
    "pot = set()\n",
    "pot.add(\"Green\")\n",
    "pot.add(\"Yellow\")\n",
    "pot.add(\"Red\")\n",
    "\n",
    "pot"
   ]
  },
  {
   "cell_type": "code",
   "execution_count": 7,
   "id": "4e78400d",
   "metadata": {},
   "outputs": [
    {
     "data": {
      "text/plain": [
       "{'Black', 'Green', 'Red', 'Yellow'}"
      ]
     },
     "execution_count": 7,
     "metadata": {},
     "output_type": "execute_result"
    }
   ],
   "source": [
    "pot.add(\"Yellow\")\n",
    "pot.add(\"Black\")\n",
    "pot"
   ]
  },
  {
   "cell_type": "code",
   "execution_count": 10,
   "id": "7017be7e",
   "metadata": {},
   "outputs": [
    {
     "data": {
      "text/plain": [
       "{'Black'}"
      ]
     },
     "execution_count": 10,
     "metadata": {},
     "output_type": "execute_result"
    }
   ],
   "source": [
    "pot.intersection(chess) "
   ]
  },
  {
   "cell_type": "code",
   "execution_count": 11,
   "id": "85c29855",
   "metadata": {},
   "outputs": [
    {
     "data": {
      "text/plain": [
       "{'Black', 'Green', 'Red', 'White', 'Yellow'}"
      ]
     },
     "execution_count": 11,
     "metadata": {},
     "output_type": "execute_result"
    }
   ],
   "source": [
    "pot.union(chess)  # This will return a new set containing all unique elements from both sets."
   ]
  },
  {
   "cell_type": "code",
   "execution_count": 13,
   "id": "e91dbe22",
   "metadata": {},
   "outputs": [
    {
     "data": {
      "text/plain": [
       "{1, 2, 3, 4, 5}"
      ]
     },
     "execution_count": 13,
     "metadata": {},
     "output_type": "execute_result"
    }
   ],
   "source": [
    "my_set = {1, 2, 2, 3, 4, 4, 5}\n",
    "my_set"
   ]
  },
  {
   "cell_type": "code",
   "execution_count": 16,
   "id": "89ac1e14",
   "metadata": {},
   "outputs": [],
   "source": [
    "setA = {1, 2, 3, 4}\n",
    "setB = {3, 4, 5, 6}"
   ]
  },
  {
   "cell_type": "code",
   "execution_count": 17,
   "id": "94f416b0",
   "metadata": {},
   "outputs": [
    {
     "name": "stdout",
     "output_type": "stream",
     "text": [
      "{3, 4} {1, 2, 3, 4, 5, 6}\n"
     ]
    }
   ],
   "source": [
    "setIntersection = setA.intersection(setB)  # This will return {3, 4}\n",
    "setUnion = setA.union(setB)  # This will return {1, 2, 3, 4, 5, 6}\n",
    "print(setIntersection, setUnion)"
   ]
  }
 ],
 "metadata": {
  "kernelspec": {
   "display_name": "Python 3",
   "language": "python",
   "name": "python3"
  },
  "language_info": {
   "codemirror_mode": {
    "name": "ipython",
    "version": 3
   },
   "file_extension": ".py",
   "mimetype": "text/x-python",
   "name": "python",
   "nbconvert_exporter": "python",
   "pygments_lexer": "ipython3",
   "version": "3.9.6"
  }
 },
 "nbformat": 4,
 "nbformat_minor": 5
}
