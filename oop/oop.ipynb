{
 "cells": [
  {
   "cell_type": "code",
   "id": "initial_id",
   "metadata": {
    "collapsed": true,
    "ExecuteTime": {
     "end_time": "2025-08-25T15:55:56.447798Z",
     "start_time": "2025-08-25T15:55:56.443715Z"
    }
   },
   "source": [
    "s = (\"jadi\")\n",
    "type(s)"
   ],
   "outputs": [
    {
     "data": {
      "text/plain": [
       "str"
      ]
     },
     "execution_count": 2,
     "metadata": {},
     "output_type": "execute_result"
    }
   ],
   "execution_count": 2
  },
  {
   "metadata": {
    "ExecuteTime": {
     "end_time": "2025-08-25T15:55:56.503599Z",
     "start_time": "2025-08-25T15:55:56.500876Z"
    }
   },
   "cell_type": "code",
   "source": [
    "class Person:\n",
    "    def __init__(self, name, age):\n",
    "        self.name = name\n",
    "        self.age = age\n",
    "\n",
    "    def greet(self):\n",
    "        return f\"Hello, my name is {self.name} and I am {self.age} years old.\""
   ],
   "id": "2ed8a891531cc33f",
   "outputs": [],
   "execution_count": 3
  },
  {
   "metadata": {
    "ExecuteTime": {
     "end_time": "2025-08-25T15:55:56.525840Z",
     "start_time": "2025-08-25T15:55:56.523797Z"
    }
   },
   "cell_type": "code",
   "source": "alex = Person(\"Alex\", 30)",
   "id": "4c93fbff38719d90",
   "outputs": [],
   "execution_count": 4
  },
  {
   "metadata": {
    "ExecuteTime": {
     "end_time": "2025-08-25T15:55:56.552132Z",
     "start_time": "2025-08-25T15:55:56.549447Z"
    }
   },
   "cell_type": "code",
   "source": "alex.greet()",
   "id": "d57850931dd5b028",
   "outputs": [
    {
     "data": {
      "text/plain": [
       "'Hello, my name is Alex and I am 30 years old.'"
      ]
     },
     "execution_count": 5,
     "metadata": {},
     "output_type": "execute_result"
    }
   ],
   "execution_count": 5
  },
  {
   "metadata": {
    "ExecuteTime": {
     "end_time": "2025-08-25T15:55:56.579695Z",
     "start_time": "2025-08-25T15:55:56.576293Z"
    }
   },
   "cell_type": "code",
   "source": "alex.name",
   "id": "6a41c52c36b52cb8",
   "outputs": [
    {
     "data": {
      "text/plain": [
       "'Alex'"
      ]
     },
     "execution_count": 6,
     "metadata": {},
     "output_type": "execute_result"
    }
   ],
   "execution_count": 6
  },
  {
   "metadata": {
    "ExecuteTime": {
     "end_time": "2025-08-25T15:55:56.635848Z",
     "start_time": "2025-08-25T15:55:56.633723Z"
    }
   },
   "cell_type": "code",
   "source": "",
   "id": "9b82373b26593ebd",
   "outputs": [],
   "execution_count": null
  }
 ],
 "metadata": {
  "kernelspec": {
   "display_name": "Python 3",
   "language": "python",
   "name": "python3"
  },
  "language_info": {
   "codemirror_mode": {
    "name": "ipython",
    "version": 2
   },
   "file_extension": ".py",
   "mimetype": "text/x-python",
   "name": "python",
   "nbconvert_exporter": "python",
   "pygments_lexer": "ipython2",
   "version": "2.7.6"
  }
 },
 "nbformat": 4,
 "nbformat_minor": 5
}
