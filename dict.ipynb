{
 "cells": [
  {
   "cell_type": "code",
   "execution_count": 1,
   "id": "26abae28",
   "metadata": {},
   "outputs": [
    {
     "data": {
      "text/plain": [
       "85"
      ]
     },
     "execution_count": 1,
     "metadata": {},
     "output_type": "execute_result"
    }
   ],
   "source": [
    "my_dict = {\n",
    "    \"name\": \"John\",\n",
    "    \"age\": 30,\n",
    "    \"city\": \"New York\"\n",
    "}\n",
    "scores = {\n",
    "    \"Alice\": 85,\n",
    "    \"Bob\": 90,\n",
    "    \"Charlie\": 78\n",
    "}\n",
    "scores[\"Alice\"]"
   ]
  },
  {
   "cell_type": "code",
   "execution_count": 2,
   "id": "530b9c41",
   "metadata": {},
   "outputs": [
    {
     "data": {
      "text/plain": [
       "95"
      ]
     },
     "execution_count": 2,
     "metadata": {},
     "output_type": "execute_result"
    }
   ],
   "source": [
    "ats_scores = {\n",
    "    \"Math\": {\"Alice\": 95, \"Bob\": 85},\n",
    "    \"Science\": {\"Alice\": 90, \"Charlie\": 80}\n",
    "}\n",
    "ats_scores[\"Math\"][\"Alice\"]"
   ]
  },
  {
   "cell_type": "code",
   "execution_count": 4,
   "id": "57c17f7b",
   "metadata": {},
   "outputs": [
    {
     "data": {
      "text/plain": [
       "dict_keys(['name', 'age', 'city'])"
      ]
     },
     "execution_count": 4,
     "metadata": {},
     "output_type": "execute_result"
    }
   ],
   "source": [
    "my_dict.keys()"
   ]
  },
  {
   "cell_type": "code",
   "execution_count": 5,
   "id": "7f4112c1",
   "metadata": {},
   "outputs": [
    {
     "data": {
      "text/plain": [
       "dict_values(['John', 30, 'New York'])"
      ]
     },
     "execution_count": 5,
     "metadata": {},
     "output_type": "execute_result"
    }
   ],
   "source": [
    "my_dict.values()"
   ]
  },
  {
   "cell_type": "code",
   "execution_count": 6,
   "id": "98a5b703",
   "metadata": {},
   "outputs": [
    {
     "data": {
      "text/plain": [
       "'Not Found'"
      ]
     },
     "execution_count": 6,
     "metadata": {},
     "output_type": "execute_result"
    }
   ],
   "source": [
    "scores.get(\"Alice\")\n",
    "scores.get(\"David\", \"Not Found\")"
   ]
  },
  {
   "cell_type": "code",
   "execution_count": 8,
   "id": "9eb50a9e",
   "metadata": {},
   "outputs": [
    {
     "data": {
      "text/plain": [
       "{'apple': 1.2, 'banana': 0.5, 'orange': 0.8}"
      ]
     },
     "execution_count": 8,
     "metadata": {},
     "output_type": "execute_result"
    }
   ],
   "source": [
    "fruit_prices = {\n",
    "    \"apple\": 1.2,\n",
    "    \"banana\": 0.5,\n",
    "    \"orange\": 0.8\n",
    "}\n",
    "fruit_prices"
   ]
  },
  {
   "cell_type": "code",
   "execution_count": 10,
   "id": "f9153934",
   "metadata": {},
   "outputs": [
    {
     "data": {
      "text/plain": [
       "{'apple': 1.2, 'banana': 0.6, 'orange': 0.8}"
      ]
     },
     "execution_count": 10,
     "metadata": {},
     "output_type": "execute_result"
    }
   ],
   "source": [
    "fruit_prices[\"banana\"] = 0.6  # Update price\n",
    "fruit_prices"
   ]
  },
  {
   "cell_type": "code",
   "execution_count": 11,
   "id": "e3cbb442",
   "metadata": {},
   "outputs": [
    {
     "data": {
      "text/plain": [
       "{'banana': 0.6, 'orange': 0.8}"
      ]
     },
     "execution_count": 11,
     "metadata": {},
     "output_type": "execute_result"
    }
   ],
   "source": [
    "fruit_prices.pop(\"apple\")  # Remove apple\n",
    "fruit_prices"
   ]
  }
 ],
 "metadata": {
  "kernelspec": {
   "display_name": "Python 3",
   "language": "python",
   "name": "python3"
  },
  "language_info": {
   "codemirror_mode": {
    "name": "ipython",
    "version": 3
   },
   "file_extension": ".py",
   "mimetype": "text/x-python",
   "name": "python",
   "nbconvert_exporter": "python",
   "pygments_lexer": "ipython3",
   "version": "3.9.6"
  }
 },
 "nbformat": 4,
 "nbformat_minor": 5
}
