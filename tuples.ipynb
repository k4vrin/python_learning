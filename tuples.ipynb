{
 "cells": [
  {
   "cell_type": "code",
   "execution_count": 1,
   "id": "initial_id",
   "metadata": {
    "collapsed": true,
    "jupyter": {
     "is_executing": true
    }
   },
   "outputs": [],
   "source": [
    "t1 = (1, 2, 3, \"jadi\", 3.14)"
   ]
  },
  {
   "cell_type": "code",
   "execution_count": 4,
   "id": "ddc61f50",
   "metadata": {},
   "outputs": [],
   "source": [
    "# t1[0] = 2\n",
    "# This code will raise a TypeError because tuples are immutable."
   ]
  },
  {
   "cell_type": "code",
   "execution_count": 5,
   "id": "249a6be0",
   "metadata": {},
   "outputs": [],
   "source": [
    "result = (\"Alex\", 12)"
   ]
  },
  {
   "cell_type": "code",
   "execution_count": 7,
   "id": "ab1d6f7b",
   "metadata": {},
   "outputs": [
    {
     "name": "stdout",
     "output_type": "stream",
     "text": [
      "Name: Alex, Score: 12\n"
     ]
    }
   ],
   "source": [
    "name, score = result\n",
    "print(f\"Name: {name}, Score: {score}\")"
   ]
  },
  {
   "cell_type": "code",
   "execution_count": null,
   "id": "9e0ec65a",
   "metadata": {},
   "outputs": [
    {
     "name": "stdout",
     "output_type": "stream",
     "text": [
      "Point A coordinates: (4, 3)\n",
      "Distance from A to origin: 5.0\n",
      "Distance (rounded to 2 decimal places): 5.00\n"
     ]
    }
   ],
   "source": [
    "# Create coordinates tuple for point A\n",
    "a = (4, 3)\n",
    "coordinates = a\n",
    "\n",
    "# Calculate distance from point A to origin (0, 0)\n",
    "# Using Euclidean distance formula: √((x₂ - x₁)² + (y₂ - y₁)²)\n",
    "import math\n",
    "\n",
    "x1, y1 = 0, 0  # Origin coordinates\n",
    "x2, y2 = coordinates  # Point A coordinates\n",
    "\n",
    "distance = math.sqrt((x2 - x1)**2 + (y2 - y1)**2)\n",
    "\n",
    "print(f\"Point A coordinates: {coordinates}\")\n",
    "print(f\"Distance from A to origin: {distance}\")\n",
    "print(f\"Distance (rounded to 2 decimal places): {distance:.2f}\")"
   ]
  }
 ],
 "metadata": {
  "kernelspec": {
   "display_name": "Python 3",
   "language": "python",
   "name": "python3"
  },
  "language_info": {
   "codemirror_mode": {
    "name": "ipython",
    "version": 3
   },
   "file_extension": ".py",
   "mimetype": "text/x-python",
   "name": "python",
   "nbconvert_exporter": "python",
   "pygments_lexer": "ipython3",
   "version": "3.9.6"
  }
 },
 "nbformat": 4,
 "nbformat_minor": 5
}
